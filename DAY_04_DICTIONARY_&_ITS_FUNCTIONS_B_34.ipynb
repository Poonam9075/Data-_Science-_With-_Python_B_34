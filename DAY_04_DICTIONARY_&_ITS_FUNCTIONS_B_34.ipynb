{
 "cells": [
  {
   "cell_type": "markdown",
   "id": "32ee6e4c",
   "metadata": {},
   "source": [
    "# Dictionary"
   ]
  },
  {
   "cell_type": "markdown",
   "id": "7561eaf8",
   "metadata": {},
   "source": [
    "Dictionary is a part of data structure"
   ]
  },
  {
   "cell_type": "code",
   "execution_count": 1,
   "id": "9f6690da",
   "metadata": {},
   "outputs": [],
   "source": [
    "#Creation of dictionary in python\n",
    "D={\"Poonam\":10,\"Komal\":20,\"Samiksha\":33,\"Vaishnavi\":40}"
   ]
  },
  {
   "cell_type": "code",
   "execution_count": 3,
   "id": "1c4366d8",
   "metadata": {},
   "outputs": [
    {
     "data": {
      "text/plain": [
       "dict"
      ]
     },
     "execution_count": 3,
     "metadata": {},
     "output_type": "execute_result"
    }
   ],
   "source": [
    "#To find the type of data structre using type() function\n",
    "type(D)"
   ]
  },
  {
   "cell_type": "code",
   "execution_count": 5,
   "id": "285f97ff",
   "metadata": {},
   "outputs": [
    {
     "name": "stdout",
     "output_type": "stream",
     "text": [
      "{'Poonam': 10, 'Komal': 20, 'Samiksha': 33, 'Vaishnavi': 40}\n"
     ]
    }
   ],
   "source": [
    "print(D)"
   ]
  },
  {
   "cell_type": "code",
   "execution_count": 8,
   "id": "1f650241",
   "metadata": {},
   "outputs": [
    {
     "data": {
      "text/plain": [
       "4"
      ]
     },
     "execution_count": 8,
     "metadata": {},
     "output_type": "execute_result"
    }
   ],
   "source": [
    "#To find the length using len() function\n",
    "len(D)"
   ]
  },
  {
   "cell_type": "code",
   "execution_count": 10,
   "id": "d5b34ed4",
   "metadata": {},
   "outputs": [
    {
     "data": {
      "text/plain": [
       "{'Poonam': 10, 'Komal': 20, 'Samiksha': 33, 'Vaishnavi': 40}"
      ]
     },
     "execution_count": 10,
     "metadata": {},
     "output_type": "execute_result"
    }
   ],
   "source": [
    "D"
   ]
  },
  {
   "cell_type": "code",
   "execution_count": 12,
   "id": "6f8c7c96",
   "metadata": {},
   "outputs": [
    {
     "data": {
      "text/plain": [
       "dict_values([10, 20, 33, 40])"
      ]
     },
     "execution_count": 12,
     "metadata": {},
     "output_type": "execute_result"
    }
   ],
   "source": [
    "#Extracting keys from python dictionary\n",
    "D={\"Poonam\":10,\"Komal\":20,\"Samiksha\":33,\"Vaishnavi\":40}\n",
    "D.values()"
   ]
  },
  {
   "cell_type": "code",
   "execution_count": 14,
   "id": "d226bfda",
   "metadata": {},
   "outputs": [
    {
     "data": {
      "text/plain": [
       "dict_keys(['Poonam', 'Komal', 'Samiksha', 'Vaishnavi'])"
      ]
     },
     "execution_count": 14,
     "metadata": {},
     "output_type": "execute_result"
    }
   ],
   "source": [
    "#Extracting values from python dictionary\n",
    "D={\"Poonam\":10,\"Komal\":20,\"Samiksha\":33,\"Vaishnavi\":40}\n",
    "D.keys()"
   ]
  },
  {
   "cell_type": "code",
   "execution_count": 15,
   "id": "32b0aa00",
   "metadata": {},
   "outputs": [
    {
     "name": "stdout",
     "output_type": "stream",
     "text": [
      "{'Poonam': 10, 'Komal': 20, 'Samiksha': 33, 'Vaishnavi': 40, 'Suhani': 45}\n"
     ]
    }
   ],
   "source": [
    "#Adding new element in python dictionary\n",
    "D={\"Poonam\":10,\"Komal\":20,\"Samiksha\":33,\"Vaishnavi\":40}\n",
    "D[\"Suhani\"]=45\n",
    "print(D)"
   ]
  },
  {
   "cell_type": "code",
   "execution_count": 18,
   "id": "678fb261",
   "metadata": {},
   "outputs": [
    {
     "name": "stdout",
     "output_type": "stream",
     "text": [
      "{'Poonam': 10, 'Komal': 20, 'Samiksha': 33, 'Vaishnavi': 60}\n"
     ]
    }
   ],
   "source": [
    "#Changing anexisting element to python dictionary\n",
    "D={\"Poonam\":10,\"Komal\":20,\"Samiksha\":33,\"Vaishnavi\":40}\n",
    "D[\"Vaishnavi\"]=60\n",
    "print(D)"
   ]
  },
  {
   "cell_type": "code",
   "execution_count": 20,
   "id": "678925c4",
   "metadata": {},
   "outputs": [
    {
     "name": "stdout",
     "output_type": "stream",
     "text": [
      "{'Poonam': 10, 'Komal': 20, 'Samiksha': 30, 'Vaishnavi': 40}\n"
     ]
    }
   ],
   "source": [
    "#Updating the dictionary element with another Dictionary\n",
    "D1={'Poonam':10,'Komal':20,}\n",
    "D2={'Samiksha':30,'Vaishnavi':40}\n",
    "D1.update(D2)\n",
    "print(D1)"
   ]
  },
  {
   "cell_type": "code",
   "execution_count": 21,
   "id": "de98ce61",
   "metadata": {},
   "outputs": [
    {
     "name": "stdout",
     "output_type": "stream",
     "text": [
      "{'Poonam': 10, 'Komal': 20, 'Samiksha': 33}\n"
     ]
    }
   ],
   "source": [
    "#Popping element Dictionary in python\n",
    "D={\"Poonam\":10,\"Komal\":20,\"Samiksha\":33,\"Vaishnavi\":40}\n",
    "D.pop(\"Vaishnavi\")\n",
    "print(D)"
   ]
  }
 ],
 "metadata": {
  "kernelspec": {
   "display_name": "Python 3 (ipykernel)",
   "language": "python",
   "name": "python3"
  },
  "language_info": {
   "codemirror_mode": {
    "name": "ipython",
    "version": 3
   },
   "file_extension": ".py",
   "mimetype": "text/x-python",
   "name": "python",
   "nbconvert_exporter": "python",
   "pygments_lexer": "ipython3",
   "version": "3.10.6"
  }
 },
 "nbformat": 4,
 "nbformat_minor": 5
}
