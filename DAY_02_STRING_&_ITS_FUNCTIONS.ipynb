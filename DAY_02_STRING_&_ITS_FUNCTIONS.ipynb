{
 "cells": [
  {
   "cell_type": "code",
   "execution_count": 4,
   "id": "23b826d3",
   "metadata": {},
   "outputs": [],
   "source": [
    "#String\n",
    "str='Poonam'"
   ]
  },
  {
   "cell_type": "code",
   "execution_count": 5,
   "id": "7e81eb6c",
   "metadata": {},
   "outputs": [
    {
     "name": "stdout",
     "output_type": "stream",
     "text": [
      "Poonam\n"
     ]
    }
   ],
   "source": [
    "print(str)"
   ]
  },
  {
   "cell_type": "code",
   "execution_count": 6,
   "id": "c4f66327",
   "metadata": {},
   "outputs": [
    {
     "data": {
      "text/plain": [
       "'P'"
      ]
     },
     "execution_count": 6,
     "metadata": {},
     "output_type": "execute_result"
    }
   ],
   "source": [
    "#Indexing: Print chracter of given index\n",
    "str[0]"
   ]
  },
  {
   "cell_type": "code",
   "execution_count": 10,
   "id": "5f97ae47",
   "metadata": {},
   "outputs": [
    {
     "data": {
      "text/plain": [
       "'a'"
      ]
     },
     "execution_count": 10,
     "metadata": {},
     "output_type": "execute_result"
    }
   ],
   "source": [
    "str[4]"
   ]
  },
  {
   "cell_type": "code",
   "execution_count": 12,
   "id": "2a1e3830",
   "metadata": {},
   "outputs": [
    {
     "data": {
      "text/plain": [
       "'m'"
      ]
     },
     "execution_count": 12,
     "metadata": {},
     "output_type": "execute_result"
    }
   ],
   "source": [
    "str[-1]"
   ]
  },
  {
   "cell_type": "code",
   "execution_count": 13,
   "id": "39fd2e9f",
   "metadata": {},
   "outputs": [
    {
     "data": {
      "text/plain": [
       "'Poon'"
      ]
     },
     "execution_count": 13,
     "metadata": {},
     "output_type": "execute_result"
    }
   ],
   "source": [
    "# Slicing: Last chracter excludes\n",
    "str[0:4]"
   ]
  },
  {
   "cell_type": "code",
   "execution_count": 14,
   "id": "628d7d0e",
   "metadata": {},
   "outputs": [
    {
     "data": {
      "text/plain": [
       "'Po'"
      ]
     },
     "execution_count": 14,
     "metadata": {},
     "output_type": "execute_result"
    }
   ],
   "source": [
    "str[:2]"
   ]
  },
  {
   "cell_type": "code",
   "execution_count": 15,
   "id": "e01a8be6",
   "metadata": {},
   "outputs": [
    {
     "data": {
      "text/plain": [
       "'onam'"
      ]
     },
     "execution_count": 15,
     "metadata": {},
     "output_type": "execute_result"
    }
   ],
   "source": [
    "str[2:]"
   ]
  },
  {
   "cell_type": "code",
   "execution_count": 16,
   "id": "a697e2c4",
   "metadata": {},
   "outputs": [
    {
     "data": {
      "text/plain": [
       "'POONAM'"
      ]
     },
     "execution_count": 16,
     "metadata": {},
     "output_type": "execute_result"
    }
   ],
   "source": [
    "#string functions\n",
    "#Converts letter into upper.\n",
    "str.upper()"
   ]
  },
  {
   "cell_type": "code",
   "execution_count": 17,
   "id": "03002cb4",
   "metadata": {},
   "outputs": [
    {
     "data": {
      "text/plain": [
       "'poonam'"
      ]
     },
     "execution_count": 17,
     "metadata": {},
     "output_type": "execute_result"
    }
   ],
   "source": [
    "str.lower()"
   ]
  },
  {
   "cell_type": "code",
   "execution_count": 18,
   "id": "3fd28fb9",
   "metadata": {},
   "outputs": [
    {
     "data": {
      "text/plain": [
       "'Roonam'"
      ]
     },
     "execution_count": 18,
     "metadata": {},
     "output_type": "execute_result"
    }
   ],
   "source": [
    "#Replace letter\n",
    "str.replace('P','R')"
   ]
  },
  {
   "cell_type": "code",
   "execution_count": 19,
   "id": "025a3c76",
   "metadata": {},
   "outputs": [
    {
     "data": {
      "text/plain": [
       "2"
      ]
     },
     "execution_count": 19,
     "metadata": {},
     "output_type": "execute_result"
    }
   ],
   "source": [
    "#Count chracter from string\n",
    "str.count(\"o\")"
   ]
  },
  {
   "cell_type": "code",
   "execution_count": 20,
   "id": "32edb5fc",
   "metadata": {},
   "outputs": [
    {
     "data": {
      "text/plain": [
       "5"
      ]
     },
     "execution_count": 20,
     "metadata": {},
     "output_type": "execute_result"
    }
   ],
   "source": [
    "#Find out chracter\n",
    "str.find(\"m\")"
   ]
  },
  {
   "cell_type": "code",
   "execution_count": 21,
   "id": "47525aa4",
   "metadata": {},
   "outputs": [
    {
     "data": {
      "text/plain": [
       "['Poo', 'am']"
      ]
     },
     "execution_count": 21,
     "metadata": {},
     "output_type": "execute_result"
    }
   ],
   "source": [
    "#Remove the character and separate the string\n",
    "str.split(\"n\")"
   ]
  }
 ],
 "metadata": {
  "kernelspec": {
   "display_name": "Python 3 (ipykernel)",
   "language": "python",
   "name": "python3"
  },
  "language_info": {
   "codemirror_mode": {
    "name": "ipython",
    "version": 3
   },
   "file_extension": ".py",
   "mimetype": "text/x-python",
   "name": "python",
   "nbconvert_exporter": "python",
   "pygments_lexer": "ipython3",
   "version": "3.9.7"
  }
 },
 "nbformat": 4,
 "nbformat_minor": 5
}
