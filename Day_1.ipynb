{
 "cells": [
  {
   "cell_type": "code",
   "execution_count": 3,
   "id": "7714c10a",
   "metadata": {},
   "outputs": [],
   "source": [
    "a=20\n",
    "#a=Variable\n",
    "#= Assignment Operator\n",
    "#20=Value"
   ]
  },
  {
   "cell_type": "code",
   "execution_count": 4,
   "id": "b6ff4206",
   "metadata": {},
   "outputs": [
    {
     "data": {
      "text/plain": [
       "20"
      ]
     },
     "execution_count": 4,
     "metadata": {},
     "output_type": "execute_result"
    }
   ],
   "source": [
    "a"
   ]
  },
  {
   "cell_type": "code",
   "execution_count": 5,
   "id": "502215cf",
   "metadata": {},
   "outputs": [
    {
     "name": "stdout",
     "output_type": "stream",
     "text": [
      "20\n"
     ]
    }
   ],
   "source": [
    "print(a)"
   ]
  },
  {
   "cell_type": "code",
   "execution_count": 6,
   "id": "1fb1ab83",
   "metadata": {},
   "outputs": [],
   "source": [
    "a=\"Poonam\"\n",
    "a='Poonam'\n",
    "a=\"\"\"Poonam\"\"\""
   ]
  },
  {
   "cell_type": "code",
   "execution_count": 7,
   "id": "e5262439",
   "metadata": {},
   "outputs": [
    {
     "data": {
      "text/plain": [
       "'Poonam'"
      ]
     },
     "execution_count": 7,
     "metadata": {},
     "output_type": "execute_result"
    }
   ],
   "source": [
    "a"
   ]
  },
  {
   "cell_type": "code",
   "execution_count": 8,
   "id": "55189cf9",
   "metadata": {},
   "outputs": [],
   "source": [
    "a='Poonam'\n",
    "b='Khandagale'\n",
    "c=a+b"
   ]
  },
  {
   "cell_type": "code",
   "execution_count": 9,
   "id": "9885a4c2",
   "metadata": {},
   "outputs": [
    {
     "data": {
      "text/plain": [
       "'PoonamKhandagale'"
      ]
     },
     "execution_count": 9,
     "metadata": {},
     "output_type": "execute_result"
    }
   ],
   "source": [
    "c"
   ]
  },
  {
   "cell_type": "code",
   "execution_count": 10,
   "id": "428b3747",
   "metadata": {},
   "outputs": [
    {
     "name": "stdout",
     "output_type": "stream",
     "text": [
      "Poonam\tKhandagale\n"
     ]
    }
   ],
   "source": [
    "print('Poonam\\tKhandagale')"
   ]
  },
  {
   "cell_type": "code",
   "execution_count": 12,
   "id": "d2d9ec13",
   "metadata": {},
   "outputs": [
    {
     "name": "stdout",
     "output_type": "stream",
     "text": [
      "Poonam\n",
      "Khandagale\n"
     ]
    }
   ],
   "source": [
    "print('Poonam\\nKhandagale')"
   ]
  },
  {
   "cell_type": "code",
   "execution_count": 13,
   "id": "1bc2c1cb",
   "metadata": {},
   "outputs": [],
   "source": [
    "a=20"
   ]
  },
  {
   "cell_type": "code",
   "execution_count": 14,
   "id": "6aacba72",
   "metadata": {},
   "outputs": [
    {
     "data": {
      "text/plain": [
       "20"
      ]
     },
     "execution_count": 14,
     "metadata": {},
     "output_type": "execute_result"
    }
   ],
   "source": [
    "a"
   ]
  }
 ],
 "metadata": {
  "kernelspec": {
   "display_name": "Python 3 (ipykernel)",
   "language": "python",
   "name": "python3"
  },
  "language_info": {
   "codemirror_mode": {
    "name": "ipython",
    "version": 3
   },
   "file_extension": ".py",
   "mimetype": "text/x-python",
   "name": "python",
   "nbconvert_exporter": "python",
   "pygments_lexer": "ipython3",
   "version": "3.9.7"
  }
 },
 "nbformat": 4,
 "nbformat_minor": 5
}
