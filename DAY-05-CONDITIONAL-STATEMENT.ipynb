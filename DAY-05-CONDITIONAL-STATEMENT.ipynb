{
 "cells": [
  {
   "cell_type": "code",
   "execution_count": 5,
   "id": "67bc752b",
   "metadata": {},
   "outputs": [
    {
     "name": "stdout",
     "output_type": "stream",
     "text": [
      "a is greater than b\n"
     ]
    }
   ],
   "source": [
    "#IF STATEMENT\n",
    "a=5\n",
    "b=3\n",
    "if(a>b):\n",
    "    print(\"a is greater than b\")"
   ]
  },
  {
   "cell_type": "code",
   "execution_count": 8,
   "id": "7c830ea2",
   "metadata": {},
   "outputs": [],
   "source": [
    "a=3\n",
    "b=5\n",
    "if(a>b):\n",
    "    print(\"a is greater than b\")"
   ]
  },
  {
   "cell_type": "code",
   "execution_count": 9,
   "id": "7d9788c2",
   "metadata": {},
   "outputs": [
    {
     "name": "stdout",
     "output_type": "stream",
     "text": [
      "Enter your rollno:45\n",
      "45\n"
     ]
    }
   ],
   "source": [
    "roll_no=int(input(\"Enter your rollno:\"))\n",
    "print(roll_no)"
   ]
  },
  {
   "cell_type": "code",
   "execution_count": 2,
   "id": "2098dbf3",
   "metadata": {},
   "outputs": [
    {
     "name": "stdout",
     "output_type": "stream",
     "text": [
      "enter percentage:66\n",
      "66\n",
      "PLACED\n"
     ]
    }
   ],
   "source": [
    "per=int(input(\"enter percentage:\"))\n",
    "print(per)\n",
    "if(per>60):\n",
    "    print(\"PLACED\")\n",
    "else:\n",
    "    print(\"NOT PLACED\")"
   ]
  },
  {
   "cell_type": "code",
   "execution_count": 10,
   "id": "02f6ff06",
   "metadata": {},
   "outputs": [
    {
     "name": "stdout",
     "output_type": "stream",
     "text": [
      "Enter value of a:5\n",
      "Enter value of b:7\n",
      "b is greater than a\n"
     ]
    }
   ],
   "source": [
    "a=int(input(\"Enter value of a:\"))\n",
    "b=int(input(\"Enter value of b:\"))\n",
    "if(a>b):\n",
    "    print(\"a is greater than b\")\n",
    "else:\n",
    "    print(\"b is greater than a\")"
   ]
  },
  {
   "cell_type": "code",
   "execution_count": 1,
   "id": "8f41e311",
   "metadata": {},
   "outputs": [
    {
     "name": "stdout",
     "output_type": "stream",
     "text": [
      "Enter no of units:335\n",
      "335\n",
      "1350\n"
     ]
    }
   ],
   "source": [
    "#Program to calculate elictricity bill\n",
    "units=int(input(\"Enter no of units:\"))\n",
    "print(units)\n",
    "if(units<=100):\n",
    "    amt=0\n",
    "if(units>100 and units<=200):\n",
    "    amt=(units-100)*5\n",
    "\n",
    "if(units>200):\n",
    "    amt=(units-200)*10\n",
    "print(amt)"
   ]
  },
  {
   "cell_type": "code",
   "execution_count": 2,
   "id": "acf143ef",
   "metadata": {},
   "outputs": [
    {
     "name": "stdout",
     "output_type": "stream",
     "text": [
      "Enter age of person:20\n",
      "20\n",
      "Eligibal for voting\n"
     ]
    }
   ],
   "source": [
    "#To check whether is eligible for voting or not\n",
    "age=int(input(\"Enter age of person:\"))\n",
    "print(age)\n",
    "if(age>=18):\n",
    "    print(\"Eligibal for voting\")\n",
    "else:\n",
    "    print(\"Not Eligibal for voting\")"
   ]
  },
  {
   "cell_type": "code",
   "execution_count": 3,
   "id": "96b757a3",
   "metadata": {},
   "outputs": [
    {
     "name": "stdout",
     "output_type": "stream",
     "text": [
      "Enter a number:66\n",
      "66\n",
      "Number is Even\n"
     ]
    }
   ],
   "source": [
    "#To check given number is even or odd\n",
    "num=int(input(\"Enter a number:\"))\n",
    "print(num)\n",
    "if(num%2==0):\n",
    "    print(\"Number is Even\")\n",
    "else:\n",
    "    print(\"Number is Odd\")"
   ]
  },
  {
   "cell_type": "code",
   "execution_count": 4,
   "id": "f7eafba2",
   "metadata": {},
   "outputs": [
    {
     "name": "stdout",
     "output_type": "stream",
     "text": [
      "Enter a number:95\n",
      "95\n",
      "95 is not divisible by 7\n"
     ]
    }
   ],
   "source": [
    "#To check number is divisible by 7 or not\n",
    "num=int(input(\"Enter a number:\"))\n",
    "print(num)\n",
    "if(num%7==0):\n",
    "    print(\"Number is divisible by 7\")\n",
    "else:\n",
    "    print(num,\"is not divisible by 7\")"
   ]
  },
  {
   "cell_type": "code",
   "execution_count": null,
   "id": "8f031851",
   "metadata": {},
   "outputs": [],
   "source": []
  }
 ],
 "metadata": {
  "kernelspec": {
   "display_name": "Python 3 (ipykernel)",
   "language": "python",
   "name": "python3"
  },
  "language_info": {
   "codemirror_mode": {
    "name": "ipython",
    "version": 3
   },
   "file_extension": ".py",
   "mimetype": "text/x-python",
   "name": "python",
   "nbconvert_exporter": "python",
   "pygments_lexer": "ipython3",
   "version": "3.9.7"
  }
 },
 "nbformat": 4,
 "nbformat_minor": 5
}
