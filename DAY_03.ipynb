{
 "cells": [
  {
   "cell_type": "code",
   "execution_count": 1,
   "id": "53159bcf",
   "metadata": {},
   "outputs": [],
   "source": [
    "x='Poonam'"
   ]
  },
  {
   "cell_type": "code",
   "execution_count": 2,
   "id": "e9fc9d6c",
   "metadata": {},
   "outputs": [],
   "source": [
    "y='a'"
   ]
  },
  {
   "cell_type": "code",
   "execution_count": 3,
   "id": "24c79eba",
   "metadata": {},
   "outputs": [
    {
     "name": "stdout",
     "output_type": "stream",
     "text": [
      "True\n"
     ]
    }
   ],
   "source": [
    "print(y in x)"
   ]
  },
  {
   "cell_type": "code",
   "execution_count": 4,
   "id": "42e22bd3",
   "metadata": {},
   "outputs": [
    {
     "name": "stdout",
     "output_type": "stream",
     "text": [
      "False\n"
     ]
    }
   ],
   "source": [
    "print(y not in x)"
   ]
  },
  {
   "cell_type": "code",
   "execution_count": 5,
   "id": "61832572",
   "metadata": {},
   "outputs": [],
   "source": [
    "#Tuple_its Fuctions and Methods"
   ]
  },
  {
   "cell_type": "code",
   "execution_count": 6,
   "id": "f450d884",
   "metadata": {},
   "outputs": [],
   "source": [
    "#Creation of Tuple\n",
    "a=(10,22.5,'Poonam',True)"
   ]
  },
  {
   "cell_type": "code",
   "execution_count": 7,
   "id": "b5146f6d",
   "metadata": {},
   "outputs": [
    {
     "data": {
      "text/plain": [
       "(10, 22.5, 'Poonam', True)"
      ]
     },
     "execution_count": 7,
     "metadata": {},
     "output_type": "execute_result"
    }
   ],
   "source": [
    "a"
   ]
  },
  {
   "cell_type": "code",
   "execution_count": 8,
   "id": "dc5066c8",
   "metadata": {},
   "outputs": [
    {
     "data": {
      "text/plain": [
       "tuple"
      ]
     },
     "execution_count": 8,
     "metadata": {},
     "output_type": "execute_result"
    }
   ],
   "source": [
    "#To find the type of data structre using type() function\n",
    "type(a)"
   ]
  },
  {
   "cell_type": "code",
   "execution_count": 9,
   "id": "32115b01",
   "metadata": {},
   "outputs": [
    {
     "data": {
      "text/plain": [
       "10"
      ]
     },
     "execution_count": 9,
     "metadata": {},
     "output_type": "execute_result"
    }
   ],
   "source": [
    "#indexing and slicing\n",
    "a[0]"
   ]
  },
  {
   "cell_type": "code",
   "execution_count": 10,
   "id": "9413146f",
   "metadata": {},
   "outputs": [
    {
     "data": {
      "text/plain": [
       "True"
      ]
     },
     "execution_count": 10,
     "metadata": {},
     "output_type": "execute_result"
    }
   ],
   "source": [
    "a[-1]"
   ]
  },
  {
   "cell_type": "code",
   "execution_count": 11,
   "id": "02d0f93f",
   "metadata": {},
   "outputs": [
    {
     "data": {
      "text/plain": [
       "(22.5, 'Poonam')"
      ]
     },
     "execution_count": 11,
     "metadata": {},
     "output_type": "execute_result"
    }
   ],
   "source": [
    "a[1:3]"
   ]
  },
  {
   "cell_type": "code",
   "execution_count": 12,
   "id": "2d4f001f",
   "metadata": {},
   "outputs": [
    {
     "data": {
      "text/plain": [
       "(10, 22.5)"
      ]
     },
     "execution_count": 12,
     "metadata": {},
     "output_type": "execute_result"
    }
   ],
   "source": [
    "a[:2]"
   ]
  },
  {
   "cell_type": "code",
   "execution_count": 13,
   "id": "54c872f7",
   "metadata": {},
   "outputs": [
    {
     "data": {
      "text/plain": [
       "'Poonam'"
      ]
     },
     "execution_count": 13,
     "metadata": {},
     "output_type": "execute_result"
    }
   ],
   "source": [
    "a[-2]"
   ]
  },
  {
   "cell_type": "code",
   "execution_count": 14,
   "id": "d69d49ce",
   "metadata": {},
   "outputs": [],
   "source": [
    "#Tuples are immutable"
   ]
  },
  {
   "cell_type": "code",
   "execution_count": 15,
   "id": "e6a5ddab",
   "metadata": {},
   "outputs": [
    {
     "data": {
      "text/plain": [
       "4"
      ]
     },
     "execution_count": 15,
     "metadata": {},
     "output_type": "execute_result"
    }
   ],
   "source": [
    "#To find the total number of elements in tuple use len() functions\n",
    "len(a)"
   ]
  },
  {
   "cell_type": "code",
   "execution_count": 16,
   "id": "d94d4bb5",
   "metadata": {},
   "outputs": [],
   "source": [
    "#Concatenate tuple1 with tuple2 elements\n",
    "x=(1,2,3)\n",
    "y=(4,5,6)"
   ]
  },
  {
   "cell_type": "code",
   "execution_count": 18,
   "id": "e2de2e19",
   "metadata": {},
   "outputs": [
    {
     "data": {
      "text/plain": [
       "tuple"
      ]
     },
     "execution_count": 18,
     "metadata": {},
     "output_type": "execute_result"
    }
   ],
   "source": [
    "#To find the type of data structre using type() function\n",
    "type(x)\n",
    "type(y)"
   ]
  },
  {
   "cell_type": "code",
   "execution_count": 19,
   "id": "fecdbd98",
   "metadata": {},
   "outputs": [
    {
     "data": {
      "text/plain": [
       "((1, 2, 3), (4, 5, 6))"
      ]
     },
     "execution_count": 19,
     "metadata": {},
     "output_type": "execute_result"
    }
   ],
   "source": [
    "x,y"
   ]
  },
  {
   "cell_type": "code",
   "execution_count": 20,
   "id": "5e4aba2e",
   "metadata": {},
   "outputs": [
    {
     "data": {
      "text/plain": [
       "(1, 2, 3, 4, 5, 6)"
      ]
     },
     "execution_count": 20,
     "metadata": {},
     "output_type": "execute_result"
    }
   ],
   "source": [
    "x+y"
   ]
  },
  {
   "cell_type": "code",
   "execution_count": 21,
   "id": "fbbcfd16",
   "metadata": {},
   "outputs": [
    {
     "data": {
      "text/plain": [
       "(4, 5, 6, 1, 2, 3)"
      ]
     },
     "execution_count": 21,
     "metadata": {},
     "output_type": "execute_result"
    }
   ],
   "source": [
    "y+x"
   ]
  },
  {
   "cell_type": "code",
   "execution_count": 22,
   "id": "0cdebd6e",
   "metadata": {},
   "outputs": [],
   "source": [
    "a=(10,'Poonam',20,30)\n",
    "b=(1,2,3,4)"
   ]
  },
  {
   "cell_type": "code",
   "execution_count": 23,
   "id": "7a234b17",
   "metadata": {},
   "outputs": [
    {
     "data": {
      "text/plain": [
       "(10, 'Poonam', 20, 30, 1, 2, 3, 4)"
      ]
     },
     "execution_count": 23,
     "metadata": {},
     "output_type": "execute_result"
    }
   ],
   "source": [
    "#Concatenation of tuple\n",
    "a+b"
   ]
  },
  {
   "cell_type": "code",
   "execution_count": 24,
   "id": "73e96fd3",
   "metadata": {},
   "outputs": [],
   "source": [
    "#Functions of Tuples"
   ]
  },
  {
   "cell_type": "code",
   "execution_count": 25,
   "id": "4cf79713",
   "metadata": {},
   "outputs": [],
   "source": [
    "#min and max function to find minimum and maximum value\n",
    "x=(1,2,3)"
   ]
  },
  {
   "cell_type": "code",
   "execution_count": 26,
   "id": "b1181f0e",
   "metadata": {},
   "outputs": [
    {
     "data": {
      "text/plain": [
       "1"
      ]
     },
     "execution_count": 26,
     "metadata": {},
     "output_type": "execute_result"
    }
   ],
   "source": [
    "min(x)"
   ]
  },
  {
   "cell_type": "code",
   "execution_count": 29,
   "id": "061a6906",
   "metadata": {},
   "outputs": [
    {
     "data": {
      "text/plain": [
       "3"
      ]
     },
     "execution_count": 29,
     "metadata": {},
     "output_type": "execute_result"
    }
   ],
   "source": [
    "max(x)"
   ]
  },
  {
   "cell_type": "code",
   "execution_count": 30,
   "id": "ddc78d3e",
   "metadata": {},
   "outputs": [],
   "source": [
    "a=('Poonam','Komal','Divyani','Samiksha')"
   ]
  },
  {
   "cell_type": "code",
   "execution_count": 31,
   "id": "14c1c558",
   "metadata": {},
   "outputs": [
    {
     "data": {
      "text/plain": [
       "'Divyani'"
      ]
     },
     "execution_count": 31,
     "metadata": {},
     "output_type": "execute_result"
    }
   ],
   "source": [
    "min(a)"
   ]
  },
  {
   "cell_type": "code",
   "execution_count": 32,
   "id": "7bf274a2",
   "metadata": {},
   "outputs": [
    {
     "data": {
      "text/plain": [
       "'Samiksha'"
      ]
     },
     "execution_count": 32,
     "metadata": {},
     "output_type": "execute_result"
    }
   ],
   "source": [
    "max(a)"
   ]
  },
  {
   "cell_type": "code",
   "execution_count": 33,
   "id": "6cb27afb",
   "metadata": {},
   "outputs": [],
   "source": [
    "b=('a','b','c','d')"
   ]
  },
  {
   "cell_type": "code",
   "execution_count": 34,
   "id": "c98b434c",
   "metadata": {},
   "outputs": [
    {
     "data": {
      "text/plain": [
       "'a'"
      ]
     },
     "execution_count": 34,
     "metadata": {},
     "output_type": "execute_result"
    }
   ],
   "source": [
    "min(b)"
   ]
  },
  {
   "cell_type": "code",
   "execution_count": 35,
   "id": "d45e1f6c",
   "metadata": {},
   "outputs": [
    {
     "data": {
      "text/plain": [
       "'d'"
      ]
     },
     "execution_count": 35,
     "metadata": {},
     "output_type": "execute_result"
    }
   ],
   "source": [
    "max(b)"
   ]
  },
  {
   "cell_type": "code",
   "execution_count": 1,
   "id": "f10f842c",
   "metadata": {},
   "outputs": [],
   "source": [
    "x=(1,2,3)"
   ]
  },
  {
   "cell_type": "code",
   "execution_count": 2,
   "id": "e3203fef",
   "metadata": {},
   "outputs": [
    {
     "data": {
      "text/plain": [
       "(1, 2, 3, 1, 2, 3, 1, 2, 3)"
      ]
     },
     "execution_count": 2,
     "metadata": {},
     "output_type": "execute_result"
    }
   ],
   "source": [
    "#Repeating the tuple elements\n",
    "x*3"
   ]
  }
 ],
 "metadata": {
  "kernelspec": {
   "display_name": "Python 3 (ipykernel)",
   "language": "python",
   "name": "python3"
  },
  "language_info": {
   "codemirror_mode": {
    "name": "ipython",
    "version": 3
   },
   "file_extension": ".py",
   "mimetype": "text/x-python",
   "name": "python",
   "nbconvert_exporter": "python",
   "pygments_lexer": "ipython3",
   "version": "3.9.7"
  }
 },
 "nbformat": 4,
 "nbformat_minor": 5
}
