{
 "cells": [
  {
   "cell_type": "code",
   "execution_count": 1,
   "id": "3e4ec1b2",
   "metadata": {},
   "outputs": [],
   "source": [
    "#Create a set\n",
    "S={10,22.5,'Poonam',True}"
   ]
  },
  {
   "cell_type": "code",
   "execution_count": 3,
   "id": "7a227a6d",
   "metadata": {},
   "outputs": [
    {
     "name": "stdout",
     "output_type": "stream",
     "text": [
      "{True, 10, 'Poonam', 22.5}\n"
     ]
    }
   ],
   "source": [
    "#Unordered\n",
    "print(s)"
   ]
  },
  {
   "cell_type": "code",
   "execution_count": 4,
   "id": "ece4756a",
   "metadata": {},
   "outputs": [
    {
     "data": {
      "text/plain": [
       "{10, 22.5, 'Poonam', True}"
      ]
     },
     "execution_count": 4,
     "metadata": {},
     "output_type": "execute_result"
    }
   ],
   "source": [
    "S"
   ]
  },
  {
   "cell_type": "code",
   "execution_count": 5,
   "id": "309eca1d",
   "metadata": {},
   "outputs": [],
   "source": [
    "#Duplicates are not allowed in set\n",
    "S={10,22.5,'Poonam',True,10}"
   ]
  },
  {
   "cell_type": "code",
   "execution_count": 6,
   "id": "d86a8728",
   "metadata": {},
   "outputs": [
    {
     "data": {
      "text/plain": [
       "{10, 22.5, 'Poonam', True}"
      ]
     },
     "execution_count": 6,
     "metadata": {},
     "output_type": "execute_result"
    }
   ],
   "source": [
    "S"
   ]
  },
  {
   "cell_type": "code",
   "execution_count": 7,
   "id": "fec3902e",
   "metadata": {},
   "outputs": [
    {
     "data": {
      "text/plain": [
       "4"
      ]
     },
     "execution_count": 7,
     "metadata": {},
     "output_type": "execute_result"
    }
   ],
   "source": [
    "#To find the length using len() function\n",
    "len(S)"
   ]
  },
  {
   "cell_type": "code",
   "execution_count": 8,
   "id": "2889416a",
   "metadata": {},
   "outputs": [
    {
     "data": {
      "text/plain": [
       "set"
      ]
     },
     "execution_count": 8,
     "metadata": {},
     "output_type": "execute_result"
    }
   ],
   "source": [
    "#To find the type of data structre using type() function\n",
    "type(S)"
   ]
  },
  {
   "cell_type": "code",
   "execution_count": 9,
   "id": "92fa2008",
   "metadata": {},
   "outputs": [],
   "source": [
    "#Set items are Unchangable"
   ]
  },
  {
   "cell_type": "code",
   "execution_count": 10,
   "id": "708057c9",
   "metadata": {},
   "outputs": [
    {
     "name": "stdout",
     "output_type": "stream",
     "text": [
      "{True, 10, 'Poonam', 22.5, 'Komal'}\n"
     ]
    }
   ],
   "source": [
    "#Addition of elements in set\n",
    "S={10,22.5,'Poonam',True,10}\n",
    "S.add('Komal')\n",
    "print(S)"
   ]
  },
  {
   "cell_type": "code",
   "execution_count": 11,
   "id": "ddf286db",
   "metadata": {},
   "outputs": [],
   "source": [
    "#Removal of element in set\n",
    "S={10,22.5,'Poonam',True,10}\n",
    "S.remove(10)"
   ]
  },
  {
   "cell_type": "code",
   "execution_count": 12,
   "id": "1201ac4d",
   "metadata": {},
   "outputs": [
    {
     "data": {
      "text/plain": [
       "{22.5, 'Poonam', True}"
      ]
     },
     "execution_count": 12,
     "metadata": {},
     "output_type": "execute_result"
    }
   ],
   "source": [
    "S"
   ]
  },
  {
   "cell_type": "code",
   "execution_count": 13,
   "id": "530964f6",
   "metadata": {},
   "outputs": [],
   "source": [
    "S={10,22.5,'Poonam',True,10,'Komal'}\n",
    "S.remove('Komal')"
   ]
  },
  {
   "cell_type": "code",
   "execution_count": 14,
   "id": "c28b716d",
   "metadata": {},
   "outputs": [
    {
     "data": {
      "text/plain": [
       "{10, 22.5, 'Poonam', True}"
      ]
     },
     "execution_count": 14,
     "metadata": {},
     "output_type": "execute_result"
    }
   ],
   "source": [
    "S"
   ]
  },
  {
   "cell_type": "code",
   "execution_count": 16,
   "id": "e7cab8ca",
   "metadata": {},
   "outputs": [
    {
     "name": "stdout",
     "output_type": "stream",
     "text": [
      "{1, 2, 3, 10, 20, 30}\n"
     ]
    }
   ],
   "source": [
    "#Updating multiple elements in set\n",
    "S={10,20,30}\n",
    "S.update([1,2,3])\n",
    "print(S)"
   ]
  },
  {
   "cell_type": "code",
   "execution_count": 18,
   "id": "15a3e310",
   "metadata": {},
   "outputs": [
    {
     "data": {
      "text/plain": [
       "{1, 2, 3, 10, 20, 30}"
      ]
     },
     "execution_count": 18,
     "metadata": {},
     "output_type": "execute_result"
    }
   ],
   "source": [
    "#Union in python set\n",
    "S1={1,2,3}\n",
    "S2={10,20,30}\n",
    "S1.union(S2)"
   ]
  },
  {
   "cell_type": "code",
   "execution_count": 19,
   "id": "1d680a58",
   "metadata": {},
   "outputs": [
    {
     "data": {
      "text/plain": [
       "{50}"
      ]
     },
     "execution_count": 19,
     "metadata": {},
     "output_type": "execute_result"
    }
   ],
   "source": [
    "#Intersection in python set\n",
    "S1={1,2,3,50}\n",
    "S2={10,20,30,50}\n",
    "S1.intersection(S2)"
   ]
  }
 ],
 "metadata": {
  "kernelspec": {
   "display_name": "Python 3 (ipykernel)",
   "language": "python",
   "name": "python3"
  },
  "language_info": {
   "codemirror_mode": {
    "name": "ipython",
    "version": 3
   },
   "file_extension": ".py",
   "mimetype": "text/x-python",
   "name": "python",
   "nbconvert_exporter": "python",
   "pygments_lexer": "ipython3",
   "version": "3.10.6"
  }
 },
 "nbformat": 4,
 "nbformat_minor": 5
}
