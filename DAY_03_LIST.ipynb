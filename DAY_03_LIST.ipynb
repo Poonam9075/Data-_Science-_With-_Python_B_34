{
 "cells": [
  {
   "cell_type": "code",
   "execution_count": 1,
   "id": "e074c8e8",
   "metadata": {},
   "outputs": [],
   "source": [
    "#List_Methods and its functions"
   ]
  },
  {
   "cell_type": "code",
   "execution_count": 2,
   "id": "5b80b5ac",
   "metadata": {},
   "outputs": [],
   "source": [
    "#Creating List\n",
    "L=[10,22.5,'Poonam',True]"
   ]
  },
  {
   "cell_type": "code",
   "execution_count": 3,
   "id": "7d008a63",
   "metadata": {},
   "outputs": [
    {
     "data": {
      "text/plain": [
       "[10, 22.5, 'Poonam', True]"
      ]
     },
     "execution_count": 3,
     "metadata": {},
     "output_type": "execute_result"
    }
   ],
   "source": [
    "L"
   ]
  },
  {
   "cell_type": "code",
   "execution_count": 5,
   "id": "a43f0bd0",
   "metadata": {},
   "outputs": [
    {
     "data": {
      "text/plain": [
       "list"
      ]
     },
     "execution_count": 5,
     "metadata": {},
     "output_type": "execute_result"
    }
   ],
   "source": [
    "#To find the type of data structre using type() function\n",
    "type(L)"
   ]
  },
  {
   "cell_type": "code",
   "execution_count": 6,
   "id": "d2b4347c",
   "metadata": {},
   "outputs": [
    {
     "data": {
      "text/plain": [
       "4"
      ]
     },
     "execution_count": 6,
     "metadata": {},
     "output_type": "execute_result"
    }
   ],
   "source": [
    "#To find the length using len() function\n",
    "len(L)"
   ]
  },
  {
   "cell_type": "code",
   "execution_count": 9,
   "id": "1b265f58",
   "metadata": {},
   "outputs": [
    {
     "data": {
      "text/plain": [
       "10"
      ]
     },
     "execution_count": 9,
     "metadata": {},
     "output_type": "execute_result"
    }
   ],
   "source": [
    "#indexing\n",
    "L[0]"
   ]
  },
  {
   "cell_type": "code",
   "execution_count": 10,
   "id": "fb5e67c3",
   "metadata": {},
   "outputs": [
    {
     "data": {
      "text/plain": [
       "'Poonam'"
      ]
     },
     "execution_count": 10,
     "metadata": {},
     "output_type": "execute_result"
    }
   ],
   "source": [
    "L[-2]"
   ]
  },
  {
   "cell_type": "code",
   "execution_count": 11,
   "id": "7fae1f89",
   "metadata": {},
   "outputs": [
    {
     "data": {
      "text/plain": [
       "[10, 22.5, 'Poonam']"
      ]
     },
     "execution_count": 11,
     "metadata": {},
     "output_type": "execute_result"
    }
   ],
   "source": [
    "#slicing\n",
    "L[:3]"
   ]
  },
  {
   "cell_type": "code",
   "execution_count": 13,
   "id": "0e993d22",
   "metadata": {},
   "outputs": [
    {
     "data": {
      "text/plain": [
       "[22.5, 'Poonam']"
      ]
     },
     "execution_count": 13,
     "metadata": {},
     "output_type": "execute_result"
    }
   ],
   "source": [
    "#imdex 1 & 2 will display using [1:3\n",
    "L[1:3]"
   ]
  },
  {
   "cell_type": "code",
   "execution_count": 14,
   "id": "60c17473",
   "metadata": {},
   "outputs": [],
   "source": [
    "#Changing the index value\n",
    "L=[10,22.5,'Poonam',True]\n",
    "L[0]=100"
   ]
  },
  {
   "cell_type": "code",
   "execution_count": 15,
   "id": "53762d2b",
   "metadata": {},
   "outputs": [
    {
     "data": {
      "text/plain": [
       "[100, 22.5, 'Poonam', True]"
      ]
     },
     "execution_count": 15,
     "metadata": {},
     "output_type": "execute_result"
    }
   ],
   "source": [
    "L"
   ]
  },
  {
   "cell_type": "code",
   "execution_count": 16,
   "id": "ab8ce3be",
   "metadata": {},
   "outputs": [
    {
     "data": {
      "text/plain": [
       "True"
      ]
     },
     "execution_count": 16,
     "metadata": {},
     "output_type": "execute_result"
    }
   ],
   "source": [
    "#Popping the last element from the list\n",
    "L=[10,22.5,'Poonam',True]\n",
    "L.pop()"
   ]
  },
  {
   "cell_type": "code",
   "execution_count": 17,
   "id": "cecc90c7",
   "metadata": {},
   "outputs": [
    {
     "data": {
      "text/plain": [
       "'Poonam'"
      ]
     },
     "execution_count": 17,
     "metadata": {},
     "output_type": "execute_result"
    }
   ],
   "source": [
    "L.pop()"
   ]
  },
  {
   "cell_type": "code",
   "execution_count": 18,
   "id": "b9a85306",
   "metadata": {},
   "outputs": [
    {
     "name": "stdout",
     "output_type": "stream",
     "text": [
      "[10, 22.5, 'Poonam', True, 'Komal']\n"
     ]
    }
   ],
   "source": [
    "#Appending the element into the list\n",
    "L=[10,22.5,'Poonam',True]\n",
    "L.append(\"Komal\")\n",
    "print(L)"
   ]
  },
  {
   "cell_type": "code",
   "execution_count": 19,
   "id": "f4b1c615",
   "metadata": {},
   "outputs": [],
   "source": [
    "#To reverse the element in list\n",
    "L=[90,86,50,10,45]"
   ]
  },
  {
   "cell_type": "code",
   "execution_count": 20,
   "id": "9bc5934c",
   "metadata": {},
   "outputs": [
    {
     "data": {
      "text/plain": [
       "[45, 10, 50, 86, 90]"
      ]
     },
     "execution_count": 20,
     "metadata": {},
     "output_type": "execute_result"
    }
   ],
   "source": [
    "L.reverse()\n",
    "L"
   ]
  },
  {
   "cell_type": "code",
   "execution_count": 21,
   "id": "e27bba46",
   "metadata": {},
   "outputs": [
    {
     "name": "stdout",
     "output_type": "stream",
     "text": [
      "[10, 45, 50, 86, 90]\n"
     ]
    }
   ],
   "source": [
    "#To sort the elements in the list(assending order)\n",
    "L=[90,86,50,10,45]\n",
    "L.sort()\n",
    "print(L)"
   ]
  },
  {
   "cell_type": "code",
   "execution_count": 22,
   "id": "a2f55a21",
   "metadata": {},
   "outputs": [
    {
     "data": {
      "text/plain": [
       "[90, 86, 50, 45, 10]"
      ]
     },
     "execution_count": 22,
     "metadata": {},
     "output_type": "execute_result"
    }
   ],
   "source": [
    "#reverse the list\n",
    "L.reverse()\n",
    "L"
   ]
  },
  {
   "cell_type": "code",
   "execution_count": 23,
   "id": "64675a5f",
   "metadata": {},
   "outputs": [
    {
     "name": "stdout",
     "output_type": "stream",
     "text": [
      "[90, 'Poonam', 86, 50, 45, 10]\n"
     ]
    }
   ],
   "source": [
    "#insert at index position 1\n",
    "L.insert(1,'Poonam')\n",
    "print(L)"
   ]
  },
  {
   "cell_type": "code",
   "execution_count": 24,
   "id": "9ce66f98",
   "metadata": {},
   "outputs": [],
   "source": [
    "#To concatenate two list\n",
    "x=[1,2,3]\n",
    "y=[4,5,6]"
   ]
  },
  {
   "cell_type": "code",
   "execution_count": 25,
   "id": "b6637ec1",
   "metadata": {},
   "outputs": [
    {
     "data": {
      "text/plain": [
       "[1, 2, 3, 4, 5, 6]"
      ]
     },
     "execution_count": 25,
     "metadata": {},
     "output_type": "execute_result"
    }
   ],
   "source": [
    "x+y"
   ]
  },
  {
   "cell_type": "code",
   "execution_count": 26,
   "id": "35dcf4db",
   "metadata": {},
   "outputs": [
    {
     "data": {
      "text/plain": [
       "[1, 2, 3, 1, 2, 3, 1, 2, 3]"
      ]
     },
     "execution_count": 26,
     "metadata": {},
     "output_type": "execute_result"
    }
   ],
   "source": [
    "x*3"
   ]
  }
 ],
 "metadata": {
  "kernelspec": {
   "display_name": "Python 3 (ipykernel)",
   "language": "python",
   "name": "python3"
  },
  "language_info": {
   "codemirror_mode": {
    "name": "ipython",
    "version": 3
   },
   "file_extension": ".py",
   "mimetype": "text/x-python",
   "name": "python",
   "nbconvert_exporter": "python",
   "pygments_lexer": "ipython3",
   "version": "3.9.7"
  }
 },
 "nbformat": 4,
 "nbformat_minor": 5
}
